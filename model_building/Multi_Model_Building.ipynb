{
 "cells": [
  {
   "cell_type": "markdown",
   "id": "599b29ae-8410-4898-adf5-46e1eb00c510",
   "metadata": {},
   "source": [
    "# Multi Model Building"
   ]
  },
  {
   "cell_type": "code",
   "execution_count": null,
   "id": "0fb845fd-8c0e-4dc8-a6c4-bc6fe6bfc21e",
   "metadata": {},
   "outputs": [],
   "source": [
    "# Remove TF logging warnings\n",
    "import os\n",
    "os.environ['TF_CPP_MIN_LOG_LEVEL'] = '3'"
   ]
  },
  {
   "cell_type": "code",
   "execution_count": null,
   "id": "730093ec-74c7-4ffb-95ac-90c84067364c",
   "metadata": {},
   "outputs": [],
   "source": [
    "import pandas as pd\n",
    "import tensorflow as tf\n",
    "import keras\n",
    "from keras import layers\n",
    "from model_helper_functions import create_fit_and_save_model\n",
    "from data_pipeline import prep_data, get_train_val_test_data\n",
    "from itertools import product\n",
    "import re\n",
    "\n",
    "# Import correct optimizer\n",
    "import platform\n",
    "if platform.system() == \"Darwin\" and platform.processor() == \"arm\":\n",
    "    from keras.optimizers.legacy import RMSprop, Adam\n",
    "else:\n",
    "    from keras.optimizers import RMSprop, Adam"
   ]
  },
  {
   "cell_type": "code",
   "execution_count": null,
   "id": "f2fc6bc1-2433-4825-bf61-a1476a67580b",
   "metadata": {},
   "outputs": [],
   "source": [
    "# Remove TF logging warnings\n",
    "tf.get_logger().setLevel('ERROR')"
   ]
  },
  {
   "cell_type": "code",
   "execution_count": null,
   "id": "feb60aae-abf9-4eaa-98b7-4741064f2c23",
   "metadata": {},
   "outputs": [],
   "source": [
    "tf.random.set_seed(15)\n",
    "keras.utils.set_random_seed(15)"
   ]
  },
  {
   "cell_type": "code",
   "execution_count": null,
   "id": "1a925ad8-5352-4c36-b2ed-f64a7338e09f",
   "metadata": {},
   "outputs": [],
   "source": [
    "data_dir = '../data'\n",
    "df = prep_data(data_dir)\n",
    "train_df, val_df, test_df = get_train_val_test_data(df, use_half_data=False)"
   ]
  },
  {
   "cell_type": "markdown",
   "id": "e5ec3475-76b5-41c7-a00a-b9b1b6027ce0",
   "metadata": {},
   "source": [
    "---"
   ]
  },
  {
   "cell_type": "markdown",
   "id": "79cbb8e7-08f9-402d-95b6-141bf85f49d6",
   "metadata": {},
   "source": [
    "## Hyperparameter Grid"
   ]
  },
  {
   "cell_type": "code",
   "execution_count": null,
   "id": "f994e77c-75f7-40b8-a32c-d5825bc8238e",
   "metadata": {},
   "outputs": [],
   "source": [
    "vocab_sizes = [4000]\n",
    "embed_sizes_with_pretrained_model = [\n",
    "    [100,'glove-wiki-gigaword-100'],\n",
    "    [300,'word2vec-google-news-300'],\n",
    "    [200, None]\n",
    "]\n",
    "batch_sizes = [32, 64]\n",
    "bidirectional_options = [True, False]\n",
    "rnn_layers = [layers.GRU, layers.LSTM]\n",
    "rnn_units_configs = [\n",
    "    [8],\n",
    "    [32],\n",
    "    [32, 16],\n",
    "]\n",
    "dense_units_configs = [\n",
    "    [1],\n",
    "    [32,1]\n",
    "]\n",
    "activations = ['sigmoid']\n",
    "final_dropouts = [0.5]\n",
    "optimizers = [RMSprop, Adam]"
   ]
  },
  {
   "cell_type": "code",
   "execution_count": null,
   "id": "891b3364-90ab-40f2-852c-abd11a197f23",
   "metadata": {},
   "outputs": [],
   "source": [
    "all_combinations = list(product(vocab_sizes, embed_sizes_with_pretrained_model, batch_sizes, bidirectional_options, rnn_layers,\n",
    "                                rnn_units_configs, dense_units_configs, activations, final_dropouts, optimizers))\n",
    "print(f'There are {len(all_combinations)} parameter combinations to run.')"
   ]
  },
  {
   "cell_type": "code",
   "execution_count": null,
   "id": "1c4d30ba-a824-4426-a083-77b4a53ff784",
   "metadata": {},
   "outputs": [],
   "source": [
    "# Keep track of model fitting in order to resume at a later time if needed.\n",
    "progress_file = './model_checkpoints/model_building_progress.csv'\n",
    "if os.path.exists(progress_file):\n",
    "    progress = pd.read_csv(progress_file)\n",
    "else:\n",
    "    progress = pd.DataFrame.from_records(all_combinations, columns=['vocab_size', 'embed_size_with_pretrained_model', \n",
    "                                                                    'batch_size', 'bidirectional', 'rnn_layer', 'rnn_units', \n",
    "                                                                    'dense_units', 'activation', 'final_dropout', 'optimizer'])\n",
    "    progress.insert(0, 'model', range(len(all_combinations)))\n",
    "    progress['finished'] = False\n",
    "    class_names = '(GRU|LSTM|Adam|RMSprop)'\n",
    "    progress['rnn_layer'] = progress['rnn_layer'].apply(lambda x: re.sub(f'.*{class_names}.*','\\\\1',str(x)))\n",
    "    progress['optimizer'] = progress['optimizer'].apply(lambda x: re.sub(f'.*{class_names}.*','\\\\1',str(x)))\n",
    "    \n",
    "    progress.to_csv(progress_file, index=False)\n",
    "    progress = pd.read_csv(progress_file)"
   ]
  },
  {
   "cell_type": "markdown",
   "id": "849c891f-882a-467d-90c9-b6877c476959",
   "metadata": {},
   "source": [
    "---"
   ]
  },
  {
   "cell_type": "markdown",
   "id": "03e5db2a-8f10-458e-9f95-594507365306",
   "metadata": {},
   "source": [
    "## Fit Models"
   ]
  },
  {
   "cell_type": "code",
   "execution_count": null,
   "id": "8faa4aaa-696f-440c-a258-84e903b3f4b9",
   "metadata": {},
   "outputs": [],
   "source": [
    "EPOCHS = 15"
   ]
  },
  {
   "cell_type": "code",
   "execution_count": null,
   "id": "160132fe-c34d-4876-b86f-48bdb93a6bf3",
   "metadata": {},
   "outputs": [],
   "source": [
    "for i, params in enumerate(all_combinations):\n",
    "    if progress.at[i, 'finished']:\n",
    "        print(f'Model {i} has already been fitted.')\n",
    "    else:\n",
    "        try:\n",
    "            f1_score = create_fit_and_save_model(f'model{i}',train_df, val_df, test_df, EPOCHS, params)\n",
    "            progress.at[i, 'finished'] = True\n",
    "            progress.to_csv(progress_file, index=False)\n",
    "            print(f'Model {i} finished with test f1_score of {f1_score:.4f}')\n",
    "        except:\n",
    "            print(f'ERROR fitting model {i}')"
   ]
  },
  {
   "cell_type": "markdown",
   "id": "b789fa1f-b388-475d-a25d-4b905729fb5b",
   "metadata": {},
   "source": [
    "---"
   ]
  }
 ],
 "metadata": {
  "kernelspec": {
   "display_name": "Python 3 (ipykernel)",
   "language": "python",
   "name": "python3"
  },
  "language_info": {
   "codemirror_mode": {
    "name": "ipython",
    "version": 3
   },
   "file_extension": ".py",
   "mimetype": "text/x-python",
   "name": "python",
   "nbconvert_exporter": "python",
   "pygments_lexer": "ipython3",
   "version": "3.10.8"
  }
 },
 "nbformat": 4,
 "nbformat_minor": 5
}
