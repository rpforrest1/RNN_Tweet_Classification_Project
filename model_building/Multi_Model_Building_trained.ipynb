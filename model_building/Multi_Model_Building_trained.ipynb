{
 "cells": [
  {
   "cell_type": "markdown",
   "id": "599b29ae-8410-4898-adf5-46e1eb00c510",
   "metadata": {
    "papermill": {
     "duration": 0.002205,
     "end_time": "2024-02-15T13:53:40.570663",
     "exception": false,
     "start_time": "2024-02-15T13:53:40.568458",
     "status": "completed"
    },
    "tags": []
   },
   "source": [
    "# Multi Model Building"
   ]
  },
  {
   "cell_type": "code",
   "execution_count": 1,
   "id": "0fb845fd-8c0e-4dc8-a6c4-bc6fe6bfc21e",
   "metadata": {
    "execution": {
     "iopub.execute_input": "2024-02-15T13:53:40.578918Z",
     "iopub.status.busy": "2024-02-15T13:53:40.578588Z",
     "iopub.status.idle": "2024-02-15T13:53:40.581037Z",
     "shell.execute_reply": "2024-02-15T13:53:40.580721Z"
    },
    "papermill": {
     "duration": 0.008476,
     "end_time": "2024-02-15T13:53:40.581103",
     "exception": false,
     "start_time": "2024-02-15T13:53:40.572627",
     "status": "completed"
    },
    "tags": []
   },
   "outputs": [],
   "source": [
    "# Remove TF logging warnings\n",
    "import os\n",
    "os.environ['TF_CPP_MIN_LOG_LEVEL'] = '3'"
   ]
  },
  {
   "cell_type": "code",
   "execution_count": 2,
   "id": "730093ec-74c7-4ffb-95ac-90c84067364c",
   "metadata": {
    "execution": {
     "iopub.execute_input": "2024-02-15T13:53:40.587225Z",
     "iopub.status.busy": "2024-02-15T13:53:40.586894Z",
     "iopub.status.idle": "2024-02-15T13:53:44.431002Z",
     "shell.execute_reply": "2024-02-15T13:53:44.430699Z"
    },
    "papermill": {
     "duration": 3.848274,
     "end_time": "2024-02-15T13:53:44.431080",
     "exception": false,
     "start_time": "2024-02-15T13:53:40.582806",
     "status": "completed"
    },
    "tags": []
   },
   "outputs": [
    {
     "name": "stderr",
     "output_type": "stream",
     "text": [
      "/usr/lib/python3/dist-packages/scipy/__init__.py:146: UserWarning: A NumPy version >=1.17.3 and <1.25.0 is required for this version of SciPy (detected version 1.25.2\n",
      "  warnings.warn(f\"A NumPy version >={np_minversion} and <{np_maxversion}\"\n"
     ]
    }
   ],
   "source": [
    "import pandas as pd\n",
    "import tensorflow as tf\n",
    "import keras\n",
    "from keras import layers\n",
    "from model_helper_functions import create_fit_and_save_model\n",
    "from data_pipeline import prep_data, get_train_val_test_data\n",
    "from itertools import product\n",
    "import re\n",
    "\n",
    "# Import correct optimizer\n",
    "import platform\n",
    "if platform.system() == \"Darwin\" and platform.processor() == \"arm\":\n",
    "    from keras.optimizers.legacy import RMSprop, Adam\n",
    "else:\n",
    "    from keras.optimizers import RMSprop, Adam"
   ]
  },
  {
   "cell_type": "code",
   "execution_count": 3,
   "id": "f2fc6bc1-2433-4825-bf61-a1476a67580b",
   "metadata": {
    "execution": {
     "iopub.execute_input": "2024-02-15T13:53:44.437658Z",
     "iopub.status.busy": "2024-02-15T13:53:44.437336Z",
     "iopub.status.idle": "2024-02-15T13:53:44.439620Z",
     "shell.execute_reply": "2024-02-15T13:53:44.439304Z"
    },
    "papermill": {
     "duration": 0.00651,
     "end_time": "2024-02-15T13:53:44.439683",
     "exception": false,
     "start_time": "2024-02-15T13:53:44.433173",
     "status": "completed"
    },
    "tags": []
   },
   "outputs": [],
   "source": [
    "# Remove TF logging warnings\n",
    "tf.get_logger().setLevel('ERROR')"
   ]
  },
  {
   "cell_type": "code",
   "execution_count": 4,
   "id": "feb60aae-abf9-4eaa-98b7-4741064f2c23",
   "metadata": {
    "execution": {
     "iopub.execute_input": "2024-02-15T13:53:44.445785Z",
     "iopub.status.busy": "2024-02-15T13:53:44.445466Z",
     "iopub.status.idle": "2024-02-15T13:53:44.447070Z",
     "shell.execute_reply": "2024-02-15T13:53:44.446761Z"
    },
    "papermill": {
     "duration": 0.005649,
     "end_time": "2024-02-15T13:53:44.447129",
     "exception": false,
     "start_time": "2024-02-15T13:53:44.441480",
     "status": "completed"
    },
    "tags": []
   },
   "outputs": [],
   "source": [
    "tf.random.set_seed(15)\n",
    "keras.utils.set_random_seed(15)"
   ]
  },
  {
   "cell_type": "code",
   "execution_count": 5,
   "id": "1a925ad8-5352-4c36-b2ed-f64a7338e09f",
   "metadata": {
    "execution": {
     "iopub.execute_input": "2024-02-15T13:53:44.453276Z",
     "iopub.status.busy": "2024-02-15T13:53:44.452935Z",
     "iopub.status.idle": "2024-02-15T13:53:44.619834Z",
     "shell.execute_reply": "2024-02-15T13:53:44.619567Z"
    },
    "papermill": {
     "duration": 0.17094,
     "end_time": "2024-02-15T13:53:44.619902",
     "exception": false,
     "start_time": "2024-02-15T13:53:44.448962",
     "status": "completed"
    },
    "tags": []
   },
   "outputs": [
    {
     "name": "stdout",
     "output_type": "stream",
     "text": [
      "Training set: 70%, Validation set: 22.5%, Test set: 7.5%\n"
     ]
    }
   ],
   "source": [
    "data_dir = '../data'\n",
    "df = prep_data(data_dir)\n",
    "train_df, val_df, test_df = get_train_val_test_data(df, use_half_data=False)"
   ]
  },
  {
   "cell_type": "markdown",
   "id": "e5ec3475-76b5-41c7-a00a-b9b1b6027ce0",
   "metadata": {
    "papermill": {
     "duration": 0.001877,
     "end_time": "2024-02-15T13:53:44.623921",
     "exception": false,
     "start_time": "2024-02-15T13:53:44.622044",
     "status": "completed"
    },
    "tags": []
   },
   "source": [
    "---"
   ]
  },
  {
   "cell_type": "markdown",
   "id": "79cbb8e7-08f9-402d-95b6-141bf85f49d6",
   "metadata": {
    "papermill": {
     "duration": 0.001819,
     "end_time": "2024-02-15T13:53:44.627666",
     "exception": false,
     "start_time": "2024-02-15T13:53:44.625847",
     "status": "completed"
    },
    "tags": []
   },
   "source": [
    "## Hyperparameter Grid"
   ]
  },
  {
   "cell_type": "code",
   "execution_count": 6,
   "id": "f994e77c-75f7-40b8-a32c-d5825bc8238e",
   "metadata": {
    "execution": {
     "iopub.execute_input": "2024-02-15T13:53:44.634803Z",
     "iopub.status.busy": "2024-02-15T13:53:44.634463Z",
     "iopub.status.idle": "2024-02-15T13:53:44.636105Z",
     "shell.execute_reply": "2024-02-15T13:53:44.635825Z"
    },
    "papermill": {
     "duration": 0.006616,
     "end_time": "2024-02-15T13:53:44.636164",
     "exception": false,
     "start_time": "2024-02-15T13:53:44.629548",
     "status": "completed"
    },
    "tags": []
   },
   "outputs": [],
   "source": [
    "vocab_sizes = [4000]\n",
    "embed_sizes_with_pretrained_model = [\n",
    "    [100,'glove-wiki-gigaword-100'],\n",
    "    [300,'word2vec-google-news-300'],\n",
    "    [200, None]\n",
    "]\n",
    "batch_sizes = [32, 64]\n",
    "bidirectional_options = [True, False]\n",
    "rnn_layers = [layers.GRU, layers.LSTM]\n",
    "rnn_units_configs = [\n",
    "    [8],\n",
    "    [32],\n",
    "    [32, 16],\n",
    "]\n",
    "dense_units_configs = [\n",
    "    [1],\n",
    "    [32,1]\n",
    "]\n",
    "activations = ['sigmoid']\n",
    "final_dropouts = [0.5]\n",
    "optimizers = [RMSprop, Adam]"
   ]
  },
  {
   "cell_type": "code",
   "execution_count": 7,
   "id": "891b3364-90ab-40f2-852c-abd11a197f23",
   "metadata": {
    "execution": {
     "iopub.execute_input": "2024-02-15T13:53:44.642512Z",
     "iopub.status.busy": "2024-02-15T13:53:44.642180Z",
     "iopub.status.idle": "2024-02-15T13:53:44.644050Z",
     "shell.execute_reply": "2024-02-15T13:53:44.644286Z"
    },
    "papermill": {
     "duration": 0.006264,
     "end_time": "2024-02-15T13:53:44.644359",
     "exception": false,
     "start_time": "2024-02-15T13:53:44.638095",
     "status": "completed"
    },
    "tags": []
   },
   "outputs": [
    {
     "name": "stdout",
     "output_type": "stream",
     "text": [
      "There are 288 parameter combinations to run.\n"
     ]
    }
   ],
   "source": [
    "all_combinations = list(product(vocab_sizes, embed_sizes_with_pretrained_model, batch_sizes, bidirectional_options, rnn_layers,\n",
    "                                rnn_units_configs, dense_units_configs, activations, final_dropouts, optimizers))\n",
    "print(f'There are {len(all_combinations)} parameter combinations to run.')"
   ]
  },
  {
   "cell_type": "code",
   "execution_count": 8,
   "id": "1c4d30ba-a824-4426-a083-77b4a53ff784",
   "metadata": {
    "execution": {
     "iopub.execute_input": "2024-02-15T13:53:44.652404Z",
     "iopub.status.busy": "2024-02-15T13:53:44.649460Z",
     "iopub.status.idle": "2024-02-15T13:53:44.661779Z",
     "shell.execute_reply": "2024-02-15T13:53:44.661465Z"
    },
    "papermill": {
     "duration": 0.015494,
     "end_time": "2024-02-15T13:53:44.661838",
     "exception": false,
     "start_time": "2024-02-15T13:53:44.646344",
     "status": "completed"
    },
    "tags": []
   },
   "outputs": [],
   "source": [
    "# Keep track of model fitting in order to resume at a later time if needed.\n",
    "progress_file = './model_checkpoints/model_building_progress.csv'\n",
    "if os.path.exists(progress_file):\n",
    "    progress = pd.read_csv(progress_file)\n",
    "else:\n",
    "    progress = pd.DataFrame.from_records(all_combinations, columns=['vocab_size', 'embed_size_with_pretrained_model', \n",
    "                                                                    'batch_size', 'bidirectional', 'rnn_layer', 'rnn_units', \n",
    "                                                                    'dense_units', 'activation', 'final_dropout', 'optimizer'])\n",
    "    progress.insert(0, 'model', range(len(all_combinations)))\n",
    "    progress['finished'] = False\n",
    "    class_names = '(GRU|LSTM|Adam|RMSprop)'\n",
    "    progress['rnn_layer'] = progress['rnn_layer'].apply(lambda x: re.sub(f'.*{class_names}.*','\\\\1',str(x)))\n",
    "    progress['optimizer'] = progress['optimizer'].apply(lambda x: re.sub(f'.*{class_names}.*','\\\\1',str(x)))\n",
    "    \n",
    "    progress.to_csv(progress_file, index=False)\n",
    "    progress = pd.read_csv(progress_file)"
   ]
  },
  {
   "cell_type": "markdown",
   "id": "849c891f-882a-467d-90c9-b6877c476959",
   "metadata": {
    "papermill": {
     "duration": 0.001915,
     "end_time": "2024-02-15T13:53:44.665749",
     "exception": false,
     "start_time": "2024-02-15T13:53:44.663834",
     "status": "completed"
    },
    "tags": []
   },
   "source": [
    "---"
   ]
  },
  {
   "cell_type": "markdown",
   "id": "03e5db2a-8f10-458e-9f95-594507365306",
   "metadata": {
    "papermill": {
     "duration": 0.001888,
     "end_time": "2024-02-15T13:53:44.669604",
     "exception": false,
     "start_time": "2024-02-15T13:53:44.667716",
     "status": "completed"
    },
    "tags": []
   },
   "source": [
    "## Fit Models"
   ]
  },
  {
   "cell_type": "code",
   "execution_count": 9,
   "id": "8faa4aaa-696f-440c-a258-84e903b3f4b9",
   "metadata": {
    "execution": {
     "iopub.execute_input": "2024-02-15T13:53:44.675929Z",
     "iopub.status.busy": "2024-02-15T13:53:44.675601Z",
     "iopub.status.idle": "2024-02-15T13:53:44.677188Z",
     "shell.execute_reply": "2024-02-15T13:53:44.676884Z"
    },
    "papermill": {
     "duration": 0.005691,
     "end_time": "2024-02-15T13:53:44.677248",
     "exception": false,
     "start_time": "2024-02-15T13:53:44.671557",
     "status": "completed"
    },
    "tags": []
   },
   "outputs": [],
   "source": [
    "EPOCHS = 15"
   ]
  },
  {
   "cell_type": "code",
   "execution_count": 10,
   "id": "160132fe-c34d-4876-b86f-48bdb93a6bf3",
   "metadata": {
    "execution": {
     "iopub.execute_input": "2024-02-15T13:53:45.353764Z",
     "iopub.status.busy": "2024-02-15T13:53:44.943818Z",
     "iopub.status.idle": "2024-02-15T20:19:47.336581Z",
     "shell.execute_reply": "2024-02-15T20:19:47.336287Z"
    },
    "papermill": {
     "duration": 23162.65747,
     "end_time": "2024-02-15T20:19:47.336663",
     "exception": false,
     "start_time": "2024-02-15T13:53:44.679193",
     "status": "completed"
    },
    "tags": []
   },
   "outputs": [
    {
     "name": "stdout",
     "output_type": "stream",
     "text": [
      "Model 0 finished with test f1_score of 0.7682\n"
     ]
    },
    {
     "name": "stdout",
     "output_type": "stream",
     "text": [
      "Model 1 finished with test f1_score of 0.7665\n"
     ]
    },
    {
     "name": "stdout",
     "output_type": "stream",
     "text": [
      "Model 2 finished with test f1_score of 0.7726\n"
     ]
    },
    {
     "name": "stdout",
     "output_type": "stream",
     "text": [
      "Model 3 finished with test f1_score of 0.7726\n"
     ]
    },
    {
     "name": "stdout",
     "output_type": "stream",
     "text": [
      "Model 4 finished with test f1_score of 0.7859\n"
     ]
    },
    {
     "name": "stdout",
     "output_type": "stream",
     "text": [
      "Model 5 finished with test f1_score of 0.7743\n"
     ]
    },
    {
     "name": "stdout",
     "output_type": "stream",
     "text": [
      "Model 6 finished with test f1_score of 0.7930\n"
     ]
    },
    {
     "name": "stdout",
     "output_type": "stream",
     "text": [
      "Model 7 finished with test f1_score of 0.7913\n"
     ]
    },
    {
     "name": "stdout",
     "output_type": "stream",
     "text": [
      "Model 8 finished with test f1_score of 0.7849\n"
     ]
    },
    {
     "name": "stdout",
     "output_type": "stream",
     "text": [
      "Model 9 finished with test f1_score of 0.7894\n"
     ]
    },
    {
     "name": "stdout",
     "output_type": "stream",
     "text": [
      "Model 10 finished with test f1_score of 0.7883\n"
     ]
    },
    {
     "name": "stdout",
     "output_type": "stream",
     "text": [
      "Model 11 finished with test f1_score of 0.7946\n"
     ]
    },
    {
     "name": "stdout",
     "output_type": "stream",
     "text": [
      "Model 12 finished with test f1_score of 0.7834\n"
     ]
    },
    {
     "name": "stdout",
     "output_type": "stream",
     "text": [
      "Model 13 finished with test f1_score of 0.7792\n"
     ]
    },
    {
     "name": "stdout",
     "output_type": "stream",
     "text": [
      "Model 14 finished with test f1_score of 0.7699\n"
     ]
    },
    {
     "name": "stdout",
     "output_type": "stream",
     "text": [
      "Model 15 finished with test f1_score of 0.7682\n"
     ]
    },
    {
     "name": "stdout",
     "output_type": "stream",
     "text": [
      "Model 16 finished with test f1_score of 0.7651\n"
     ]
    },
    {
     "name": "stdout",
     "output_type": "stream",
     "text": [
      "Model 17 finished with test f1_score of 0.7733\n"
     ]
    },
    {
     "name": "stdout",
     "output_type": "stream",
     "text": [
      "Model 18 finished with test f1_score of 0.7810\n"
     ]
    },
    {
     "name": "stdout",
     "output_type": "stream",
     "text": [
      "Model 19 finished with test f1_score of 0.7894\n"
     ]
    },
    {
     "name": "stdout",
     "output_type": "stream",
     "text": [
      "Model 20 finished with test f1_score of 0.7770\n"
     ]
    },
    {
     "name": "stdout",
     "output_type": "stream",
     "text": [
      "Model 21 finished with test f1_score of 0.7885\n"
     ]
    },
    {
     "name": "stdout",
     "output_type": "stream",
     "text": [
      "Model 22 finished with test f1_score of 0.7813\n"
     ]
    },
    {
     "name": "stdout",
     "output_type": "stream",
     "text": [
      "Model 23 finished with test f1_score of 0.7723\n"
     ]
    },
    {
     "name": "stdout",
     "output_type": "stream",
     "text": [
      "Model 24 finished with test f1_score of 0.7851\n"
     ]
    },
    {
     "name": "stdout",
     "output_type": "stream",
     "text": [
      "Model 25 finished with test f1_score of 0.7790\n"
     ]
    },
    {
     "name": "stdout",
     "output_type": "stream",
     "text": [
      "Model 26 finished with test f1_score of 0.7753\n"
     ]
    },
    {
     "name": "stdout",
     "output_type": "stream",
     "text": [
      "Model 27 finished with test f1_score of 0.7651\n"
     ]
    },
    {
     "name": "stdout",
     "output_type": "stream",
     "text": [
      "Model 28 finished with test f1_score of 0.7685\n"
     ]
    },
    {
     "name": "stdout",
     "output_type": "stream",
     "text": [
      "Model 29 finished with test f1_score of 0.7770\n"
     ]
    },
    {
     "name": "stdout",
     "output_type": "stream",
     "text": [
      "Model 30 finished with test f1_score of 0.7788\n"
     ]
    },
    {
     "name": "stdout",
     "output_type": "stream",
     "text": [
      "Model 31 finished with test f1_score of 0.7817\n"
     ]
    },
    {
     "name": "stdout",
     "output_type": "stream",
     "text": [
      "Model 32 finished with test f1_score of 0.7803\n"
     ]
    },
    {
     "name": "stdout",
     "output_type": "stream",
     "text": [
      "Model 33 finished with test f1_score of 0.7740\n"
     ]
    },
    {
     "name": "stdout",
     "output_type": "stream",
     "text": [
      "Model 34 finished with test f1_score of 0.7654\n"
     ]
    },
    {
     "name": "stdout",
     "output_type": "stream",
     "text": [
      "Model 35 finished with test f1_score of 0.7706\n"
     ]
    },
    {
     "name": "stdout",
     "output_type": "stream",
     "text": [
      "Model 36 finished with test f1_score of 0.7644\n"
     ]
    },
    {
     "name": "stdout",
     "output_type": "stream",
     "text": [
      "Model 37 finished with test f1_score of 0.7675\n"
     ]
    },
    {
     "name": "stdout",
     "output_type": "stream",
     "text": [
      "Model 38 finished with test f1_score of 0.7577\n"
     ]
    },
    {
     "name": "stdout",
     "output_type": "stream",
     "text": [
      "Model 39 finished with test f1_score of 0.7664\n"
     ]
    },
    {
     "name": "stdout",
     "output_type": "stream",
     "text": [
      "Model 40 finished with test f1_score of 0.7608\n"
     ]
    },
    {
     "name": "stdout",
     "output_type": "stream",
     "text": [
      "Model 41 finished with test f1_score of 0.7651\n"
     ]
    },
    {
     "name": "stdout",
     "output_type": "stream",
     "text": [
      "Model 42 finished with test f1_score of 0.7793\n"
     ]
    },
    {
     "name": "stdout",
     "output_type": "stream",
     "text": [
      "Model 43 finished with test f1_score of 0.7638\n"
     ]
    },
    {
     "name": "stdout",
     "output_type": "stream",
     "text": [
      "Model 44 finished with test f1_score of 0.7621\n"
     ]
    },
    {
     "name": "stdout",
     "output_type": "stream",
     "text": [
      "Model 45 finished with test f1_score of 0.7619\n"
     ]
    },
    {
     "name": "stdout",
     "output_type": "stream",
     "text": [
      "Model 46 finished with test f1_score of 0.7431\n"
     ]
    },
    {
     "name": "stdout",
     "output_type": "stream",
     "text": [
      "Model 47 finished with test f1_score of 0.7518\n"
     ]
    },
    {
     "name": "stdout",
     "output_type": "stream",
     "text": [
      "Model 48 finished with test f1_score of 0.7638\n"
     ]
    },
    {
     "name": "stdout",
     "output_type": "stream",
     "text": [
      "Model 49 finished with test f1_score of 0.7675\n"
     ]
    },
    {
     "name": "stdout",
     "output_type": "stream",
     "text": [
      "Model 50 finished with test f1_score of 0.7699\n"
     ]
    },
    {
     "name": "stdout",
     "output_type": "stream",
     "text": [
      "Model 51 finished with test f1_score of 0.7729\n"
     ]
    },
    {
     "name": "stdout",
     "output_type": "stream",
     "text": [
      "Model 52 finished with test f1_score of 0.7895\n"
     ]
    },
    {
     "name": "stdout",
     "output_type": "stream",
     "text": [
      "Model 53 finished with test f1_score of 0.7726\n"
     ]
    },
    {
     "name": "stdout",
     "output_type": "stream",
     "text": [
      "Model 54 finished with test f1_score of 0.7852\n"
     ]
    },
    {
     "name": "stdout",
     "output_type": "stream",
     "text": [
      "Model 55 finished with test f1_score of 0.7627\n"
     ]
    },
    {
     "name": "stdout",
     "output_type": "stream",
     "text": [
      "Model 56 finished with test f1_score of 0.7723\n"
     ]
    },
    {
     "name": "stdout",
     "output_type": "stream",
     "text": [
      "Model 57 finished with test f1_score of 0.7751\n"
     ]
    },
    {
     "name": "stdout",
     "output_type": "stream",
     "text": [
      "Model 58 finished with test f1_score of 0.7965\n"
     ]
    },
    {
     "name": "stdout",
     "output_type": "stream",
     "text": [
      "Model 59 finished with test f1_score of 0.7894\n"
     ]
    },
    {
     "name": "stdout",
     "output_type": "stream",
     "text": [
      "Model 60 finished with test f1_score of 0.7756\n"
     ]
    },
    {
     "name": "stdout",
     "output_type": "stream",
     "text": [
      "Model 61 finished with test f1_score of 0.7921\n"
     ]
    },
    {
     "name": "stdout",
     "output_type": "stream",
     "text": [
      "Model 62 finished with test f1_score of 0.7638\n"
     ]
    },
    {
     "name": "stdout",
     "output_type": "stream",
     "text": [
      "Model 63 finished with test f1_score of 0.7722\n"
     ]
    },
    {
     "name": "stdout",
     "output_type": "stream",
     "text": [
      "Model 64 finished with test f1_score of 0.7743\n"
     ]
    },
    {
     "name": "stdout",
     "output_type": "stream",
     "text": [
      "Model 65 finished with test f1_score of 0.7726\n"
     ]
    },
    {
     "name": "stdout",
     "output_type": "stream",
     "text": [
      "Model 66 finished with test f1_score of 0.7746\n"
     ]
    },
    {
     "name": "stdout",
     "output_type": "stream",
     "text": [
      "Model 67 finished with test f1_score of 0.7867\n"
     ]
    },
    {
     "name": "stdout",
     "output_type": "stream",
     "text": [
      "Model 68 finished with test f1_score of 0.7647\n"
     ]
    },
    {
     "name": "stdout",
     "output_type": "stream",
     "text": [
      "Model 69 finished with test f1_score of 0.7640\n"
     ]
    },
    {
     "name": "stdout",
     "output_type": "stream",
     "text": [
      "Model 70 finished with test f1_score of 0.7755\n"
     ]
    },
    {
     "name": "stdout",
     "output_type": "stream",
     "text": [
      "Model 71 finished with test f1_score of 0.7689\n"
     ]
    },
    {
     "name": "stdout",
     "output_type": "stream",
     "text": [
      "Model 72 finished with test f1_score of 0.7862\n"
     ]
    },
    {
     "name": "stdout",
     "output_type": "stream",
     "text": [
      "Model 73 finished with test f1_score of 0.7904\n"
     ]
    },
    {
     "name": "stdout",
     "output_type": "stream",
     "text": [
      "Model 74 finished with test f1_score of 0.7668\n"
     ]
    },
    {
     "name": "stdout",
     "output_type": "stream",
     "text": [
      "Model 75 finished with test f1_score of 0.7692\n"
     ]
    },
    {
     "name": "stdout",
     "output_type": "stream",
     "text": [
      "Model 76 finished with test f1_score of 0.7658\n"
     ]
    },
    {
     "name": "stdout",
     "output_type": "stream",
     "text": [
      "Model 77 finished with test f1_score of 0.7685\n"
     ]
    },
    {
     "name": "stdout",
     "output_type": "stream",
     "text": [
      "Model 78 finished with test f1_score of 0.7807\n"
     ]
    },
    {
     "name": "stdout",
     "output_type": "stream",
     "text": [
      "Model 79 finished with test f1_score of 0.7743\n"
     ]
    },
    {
     "name": "stdout",
     "output_type": "stream",
     "text": [
      "Model 80 finished with test f1_score of 0.7785\n"
     ]
    },
    {
     "name": "stdout",
     "output_type": "stream",
     "text": [
      "Model 81 finished with test f1_score of 0.7793\n"
     ]
    },
    {
     "name": "stdout",
     "output_type": "stream",
     "text": [
      "Model 82 finished with test f1_score of 0.7720\n"
     ]
    },
    {
     "name": "stdout",
     "output_type": "stream",
     "text": [
      "Model 83 finished with test f1_score of 0.7648\n"
     ]
    },
    {
     "name": "stdout",
     "output_type": "stream",
     "text": [
      "Model 84 finished with test f1_score of 0.7585\n"
     ]
    },
    {
     "name": "stdout",
     "output_type": "stream",
     "text": [
      "Model 85 finished with test f1_score of 0.7778\n"
     ]
    },
    {
     "name": "stdout",
     "output_type": "stream",
     "text": [
      "Model 86 finished with test f1_score of 0.7539\n"
     ]
    },
    {
     "name": "stdout",
     "output_type": "stream",
     "text": [
      "Model 87 finished with test f1_score of 0.7506\n"
     ]
    },
    {
     "name": "stdout",
     "output_type": "stream",
     "text": [
      "Model 88 finished with test f1_score of 0.7640\n"
     ]
    },
    {
     "name": "stdout",
     "output_type": "stream",
     "text": [
      "Model 89 finished with test f1_score of 0.7477\n"
     ]
    },
    {
     "name": "stdout",
     "output_type": "stream",
     "text": [
      "Model 90 finished with test f1_score of 0.7775\n"
     ]
    },
    {
     "name": "stdout",
     "output_type": "stream",
     "text": [
      "Model 91 finished with test f1_score of 0.7758\n"
     ]
    },
    {
     "name": "stdout",
     "output_type": "stream",
     "text": [
      "Model 92 finished with test f1_score of 0.7593\n"
     ]
    },
    {
     "name": "stdout",
     "output_type": "stream",
     "text": [
      "Model 93 finished with test f1_score of 0.7615\n"
     ]
    },
    {
     "name": "stdout",
     "output_type": "stream",
     "text": [
      "Model 94 finished with test f1_score of 0.7455\n"
     ]
    },
    {
     "name": "stdout",
     "output_type": "stream",
     "text": [
      "Model 95 finished with test f1_score of 0.7585\n"
     ]
    },
    {
     "name": "stdout",
     "output_type": "stream",
     "text": [
      "Model 96 finished with test f1_score of 0.8000\n"
     ]
    },
    {
     "name": "stdout",
     "output_type": "stream",
     "text": [
      "Model 97 finished with test f1_score of 0.8133\n"
     ]
    },
    {
     "name": "stdout",
     "output_type": "stream",
     "text": [
      "Model 98 finished with test f1_score of 0.7710\n"
     ]
    },
    {
     "name": "stdout",
     "output_type": "stream",
     "text": [
      "Model 99 finished with test f1_score of 0.8017\n"
     ]
    },
    {
     "name": "stdout",
     "output_type": "stream",
     "text": [
      "Model 100 finished with test f1_score of 0.8043\n"
     ]
    },
    {
     "name": "stdout",
     "output_type": "stream",
     "text": [
      "Model 101 finished with test f1_score of 0.8053\n"
     ]
    },
    {
     "name": "stdout",
     "output_type": "stream",
     "text": [
      "Model 102 finished with test f1_score of 0.7800\n"
     ]
    },
    {
     "name": "stdout",
     "output_type": "stream",
     "text": [
      "Model 103 finished with test f1_score of 0.7957\n"
     ]
    },
    {
     "name": "stdout",
     "output_type": "stream",
     "text": [
      "Model 104 finished with test f1_score of 0.8113\n"
     ]
    },
    {
     "name": "stdout",
     "output_type": "stream",
     "text": [
      "Model 105 finished with test f1_score of 0.8164\n"
     ]
    },
    {
     "name": "stdout",
     "output_type": "stream",
     "text": [
      "Model 106 finished with test f1_score of 0.7770\n"
     ]
    },
    {
     "name": "stdout",
     "output_type": "stream",
     "text": [
      "Model 107 finished with test f1_score of 0.7775\n"
     ]
    },
    {
     "name": "stdout",
     "output_type": "stream",
     "text": [
      "Model 108 finished with test f1_score of 0.8008\n"
     ]
    },
    {
     "name": "stdout",
     "output_type": "stream",
     "text": [
      "Model 109 finished with test f1_score of 0.7765\n"
     ]
    },
    {
     "name": "stdout",
     "output_type": "stream",
     "text": [
      "Model 110 finished with test f1_score of 0.7732\n"
     ]
    },
    {
     "name": "stdout",
     "output_type": "stream",
     "text": [
      "Model 111 finished with test f1_score of 0.7785\n"
     ]
    },
    {
     "name": "stdout",
     "output_type": "stream",
     "text": [
      "Model 112 finished with test f1_score of 0.8000\n"
     ]
    },
    {
     "name": "stdout",
     "output_type": "stream",
     "text": [
      "Model 113 finished with test f1_score of 0.7920\n"
     ]
    },
    {
     "name": "stdout",
     "output_type": "stream",
     "text": [
      "Model 114 finished with test f1_score of 0.7795\n"
     ]
    },
    {
     "name": "stdout",
     "output_type": "stream",
     "text": [
      "Model 115 finished with test f1_score of 0.7768\n"
     ]
    },
    {
     "name": "stdout",
     "output_type": "stream",
     "text": [
      "Model 116 finished with test f1_score of 0.7895\n"
     ]
    },
    {
     "name": "stdout",
     "output_type": "stream",
     "text": [
      "Model 117 finished with test f1_score of 0.7859\n"
     ]
    },
    {
     "name": "stdout",
     "output_type": "stream",
     "text": [
      "Model 118 finished with test f1_score of 0.7575\n"
     ]
    },
    {
     "name": "stdout",
     "output_type": "stream",
     "text": [
      "Model 119 finished with test f1_score of 0.7991\n"
     ]
    },
    {
     "name": "stdout",
     "output_type": "stream",
     "text": [
      "Model 120 finished with test f1_score of 0.7686\n"
     ]
    },
    {
     "name": "stdout",
     "output_type": "stream",
     "text": [
      "Model 121 finished with test f1_score of 0.7682\n"
     ]
    },
    {
     "name": "stdout",
     "output_type": "stream",
     "text": [
      "Model 122 finished with test f1_score of 0.7763\n"
     ]
    },
    {
     "name": "stdout",
     "output_type": "stream",
     "text": [
      "Model 123 finished with test f1_score of 0.7675\n"
     ]
    },
    {
     "name": "stdout",
     "output_type": "stream",
     "text": [
      "Model 124 finished with test f1_score of 0.7736\n"
     ]
    },
    {
     "name": "stdout",
     "output_type": "stream",
     "text": [
      "Model 125 finished with test f1_score of 0.7706\n"
     ]
    },
    {
     "name": "stdout",
     "output_type": "stream",
     "text": [
      "Model 126 finished with test f1_score of 0.7939\n"
     ]
    },
    {
     "name": "stdout",
     "output_type": "stream",
     "text": [
      "Model 127 finished with test f1_score of 0.7751\n"
     ]
    },
    {
     "name": "stdout",
     "output_type": "stream",
     "text": [
      "Model 128 finished with test f1_score of 0.7775\n"
     ]
    },
    {
     "name": "stdout",
     "output_type": "stream",
     "text": [
      "Model 129 finished with test f1_score of 0.7843\n"
     ]
    },
    {
     "name": "stdout",
     "output_type": "stream",
     "text": [
      "Model 130 finished with test f1_score of 0.7617\n"
     ]
    },
    {
     "name": "stdout",
     "output_type": "stream",
     "text": [
      "Model 131 finished with test f1_score of 0.7795\n"
     ]
    },
    {
     "name": "stdout",
     "output_type": "stream",
     "text": [
      "Model 132 finished with test f1_score of 0.7824\n"
     ]
    },
    {
     "name": "stdout",
     "output_type": "stream",
     "text": [
      "Model 133 finished with test f1_score of 0.7682\n"
     ]
    },
    {
     "name": "stdout",
     "output_type": "stream",
     "text": [
      "Model 134 finished with test f1_score of 0.7792\n"
     ]
    },
    {
     "name": "stdout",
     "output_type": "stream",
     "text": [
      "Model 135 finished with test f1_score of 0.7811\n"
     ]
    },
    {
     "name": "stdout",
     "output_type": "stream",
     "text": [
      "Model 136 finished with test f1_score of 0.7706\n"
     ]
    },
    {
     "name": "stdout",
     "output_type": "stream",
     "text": [
      "Model 137 finished with test f1_score of 0.7617\n"
     ]
    },
    {
     "name": "stdout",
     "output_type": "stream",
     "text": [
      "Model 138 finished with test f1_score of 0.7805\n"
     ]
    },
    {
     "name": "stdout",
     "output_type": "stream",
     "text": [
      "Model 139 finished with test f1_score of 0.7723\n"
     ]
    },
    {
     "name": "stdout",
     "output_type": "stream",
     "text": [
      "Model 140 finished with test f1_score of 0.7775\n"
     ]
    },
    {
     "name": "stdout",
     "output_type": "stream",
     "text": [
      "Model 141 finished with test f1_score of 0.7703\n"
     ]
    },
    {
     "name": "stdout",
     "output_type": "stream",
     "text": [
      "Model 142 finished with test f1_score of 0.7849\n"
     ]
    },
    {
     "name": "stdout",
     "output_type": "stream",
     "text": [
      "Model 143 finished with test f1_score of 0.7848\n"
     ]
    },
    {
     "name": "stdout",
     "output_type": "stream",
     "text": [
      "Model 144 finished with test f1_score of 0.7974\n"
     ]
    },
    {
     "name": "stdout",
     "output_type": "stream",
     "text": [
      "Model 145 finished with test f1_score of 0.8114\n"
     ]
    },
    {
     "name": "stdout",
     "output_type": "stream",
     "text": [
      "Model 146 finished with test f1_score of 0.7619\n"
     ]
    },
    {
     "name": "stdout",
     "output_type": "stream",
     "text": [
      "Model 147 finished with test f1_score of 0.7974\n"
     ]
    },
    {
     "name": "stdout",
     "output_type": "stream",
     "text": [
      "Model 148 finished with test f1_score of 0.8009\n"
     ]
    },
    {
     "name": "stdout",
     "output_type": "stream",
     "text": [
      "Model 149 finished with test f1_score of 0.8053\n"
     ]
    },
    {
     "name": "stdout",
     "output_type": "stream",
     "text": [
      "Model 150 finished with test f1_score of 0.7766\n"
     ]
    },
    {
     "name": "stdout",
     "output_type": "stream",
     "text": [
      "Model 151 finished with test f1_score of 0.7974\n"
     ]
    },
    {
     "name": "stdout",
     "output_type": "stream",
     "text": [
      "Model 152 finished with test f1_score of 0.8026\n"
     ]
    },
    {
     "name": "stdout",
     "output_type": "stream",
     "text": [
      "Model 153 finished with test f1_score of 0.8103\n"
     ]
    },
    {
     "name": "stdout",
     "output_type": "stream",
     "text": [
      "Model 154 finished with test f1_score of 0.7596\n"
     ]
    },
    {
     "name": "stdout",
     "output_type": "stream",
     "text": [
      "Model 155 finished with test f1_score of 0.7735\n"
     ]
    },
    {
     "name": "stdout",
     "output_type": "stream",
     "text": [
      "Model 156 finished with test f1_score of 0.7797\n"
     ]
    },
    {
     "name": "stdout",
     "output_type": "stream",
     "text": [
      "Model 157 finished with test f1_score of 0.7845\n"
     ]
    },
    {
     "name": "stdout",
     "output_type": "stream",
     "text": [
      "Model 158 finished with test f1_score of 0.7828\n"
     ]
    },
    {
     "name": "stdout",
     "output_type": "stream",
     "text": [
      "Model 159 finished with test f1_score of 0.7787\n"
     ]
    },
    {
     "name": "stdout",
     "output_type": "stream",
     "text": [
      "Model 160 finished with test f1_score of 0.8079\n"
     ]
    },
    {
     "name": "stdout",
     "output_type": "stream",
     "text": [
      "Model 161 finished with test f1_score of 0.7982\n"
     ]
    },
    {
     "name": "stdout",
     "output_type": "stream",
     "text": [
      "Model 162 finished with test f1_score of 0.7730\n"
     ]
    },
    {
     "name": "stdout",
     "output_type": "stream",
     "text": [
      "Model 163 finished with test f1_score of 0.7743\n"
     ]
    },
    {
     "name": "stdout",
     "output_type": "stream",
     "text": [
      "Model 164 finished with test f1_score of 0.7797\n"
     ]
    },
    {
     "name": "stdout",
     "output_type": "stream",
     "text": [
      "Model 165 finished with test f1_score of 0.7939\n"
     ]
    },
    {
     "name": "stdout",
     "output_type": "stream",
     "text": [
      "Model 166 finished with test f1_score of 0.7529\n"
     ]
    },
    {
     "name": "stdout",
     "output_type": "stream",
     "text": [
      "Model 167 finished with test f1_score of 0.7414\n"
     ]
    },
    {
     "name": "stdout",
     "output_type": "stream",
     "text": [
      "Model 168 finished with test f1_score of 0.7766\n"
     ]
    },
    {
     "name": "stdout",
     "output_type": "stream",
     "text": [
      "Model 169 finished with test f1_score of 0.7627\n"
     ]
    },
    {
     "name": "stdout",
     "output_type": "stream",
     "text": [
      "Model 170 finished with test f1_score of 0.7719\n"
     ]
    },
    {
     "name": "stdout",
     "output_type": "stream",
     "text": [
      "Model 171 finished with test f1_score of 0.7617\n"
     ]
    },
    {
     "name": "stdout",
     "output_type": "stream",
     "text": [
      "Model 172 finished with test f1_score of 0.7849\n"
     ]
    },
    {
     "name": "stdout",
     "output_type": "stream",
     "text": [
      "Model 173 finished with test f1_score of 0.7921\n"
     ]
    },
    {
     "name": "stdout",
     "output_type": "stream",
     "text": [
      "Model 174 finished with test f1_score of 0.7832\n"
     ]
    },
    {
     "name": "stdout",
     "output_type": "stream",
     "text": [
      "Model 175 finished with test f1_score of 0.7795\n"
     ]
    },
    {
     "name": "stdout",
     "output_type": "stream",
     "text": [
      "Model 176 finished with test f1_score of 0.7805\n"
     ]
    },
    {
     "name": "stdout",
     "output_type": "stream",
     "text": [
      "Model 177 finished with test f1_score of 0.7788\n"
     ]
    },
    {
     "name": "stdout",
     "output_type": "stream",
     "text": [
      "Model 178 finished with test f1_score of 0.7644\n"
     ]
    },
    {
     "name": "stdout",
     "output_type": "stream",
     "text": [
      "Model 179 finished with test f1_score of 0.7830\n"
     ]
    },
    {
     "name": "stdout",
     "output_type": "stream",
     "text": [
      "Model 180 finished with test f1_score of 0.7726\n"
     ]
    },
    {
     "name": "stdout",
     "output_type": "stream",
     "text": [
      "Model 181 finished with test f1_score of 0.7675\n"
     ]
    },
    {
     "name": "stdout",
     "output_type": "stream",
     "text": [
      "Model 182 finished with test f1_score of 0.7852\n"
     ]
    },
    {
     "name": "stdout",
     "output_type": "stream",
     "text": [
      "Model 183 finished with test f1_score of 0.7790\n"
     ]
    },
    {
     "name": "stdout",
     "output_type": "stream",
     "text": [
      "Model 184 finished with test f1_score of 0.7706\n"
     ]
    },
    {
     "name": "stdout",
     "output_type": "stream",
     "text": [
      "Model 185 finished with test f1_score of 0.7638\n"
     ]
    },
    {
     "name": "stdout",
     "output_type": "stream",
     "text": [
      "Model 186 finished with test f1_score of 0.7849\n"
     ]
    },
    {
     "name": "stdout",
     "output_type": "stream",
     "text": [
      "Model 187 finished with test f1_score of 0.7797\n"
     ]
    },
    {
     "name": "stdout",
     "output_type": "stream",
     "text": [
      "Model 188 finished with test f1_score of 0.7580\n"
     ]
    },
    {
     "name": "stdout",
     "output_type": "stream",
     "text": [
      "Model 189 finished with test f1_score of 0.7613\n"
     ]
    },
    {
     "name": "stdout",
     "output_type": "stream",
     "text": [
      "Model 190 finished with test f1_score of 0.7703\n"
     ]
    },
    {
     "name": "stdout",
     "output_type": "stream",
     "text": [
      "Model 191 finished with test f1_score of 0.7785\n"
     ]
    },
    {
     "name": "stdout",
     "output_type": "stream",
     "text": [
      "Model 192 finished with test f1_score of 0.7554\n"
     ]
    },
    {
     "name": "stdout",
     "output_type": "stream",
     "text": [
      "Model 193 finished with test f1_score of 0.7355\n"
     ]
    },
    {
     "name": "stdout",
     "output_type": "stream",
     "text": [
      "Model 194 finished with test f1_score of 0.7609\n"
     ]
    },
    {
     "name": "stdout",
     "output_type": "stream",
     "text": [
      "Model 195 finished with test f1_score of 0.7594\n"
     ]
    },
    {
     "name": "stdout",
     "output_type": "stream",
     "text": [
      "Model 196 finished with test f1_score of 0.7559\n"
     ]
    },
    {
     "name": "stdout",
     "output_type": "stream",
     "text": [
      "Model 197 finished with test f1_score of 0.7555\n"
     ]
    },
    {
     "name": "stdout",
     "output_type": "stream",
     "text": [
      "Model 198 finished with test f1_score of 0.7582\n"
     ]
    },
    {
     "name": "stdout",
     "output_type": "stream",
     "text": [
      "Model 199 finished with test f1_score of 0.7394\n"
     ]
    },
    {
     "name": "stdout",
     "output_type": "stream",
     "text": [
      "Model 200 finished with test f1_score of 0.7703\n"
     ]
    },
    {
     "name": "stdout",
     "output_type": "stream",
     "text": [
      "Model 201 finished with test f1_score of 0.7399\n"
     ]
    },
    {
     "name": "stdout",
     "output_type": "stream",
     "text": [
      "Model 202 finished with test f1_score of 0.7327\n"
     ]
    },
    {
     "name": "stdout",
     "output_type": "stream",
     "text": [
      "Model 203 finished with test f1_score of 0.7571\n"
     ]
    },
    {
     "name": "stdout",
     "output_type": "stream",
     "text": [
      "Model 204 finished with test f1_score of 0.7597\n"
     ]
    },
    {
     "name": "stdout",
     "output_type": "stream",
     "text": [
      "Model 205 finished with test f1_score of 0.7395\n"
     ]
    },
    {
     "name": "stdout",
     "output_type": "stream",
     "text": [
      "Model 206 finished with test f1_score of 0.7576\n"
     ]
    },
    {
     "name": "stdout",
     "output_type": "stream",
     "text": [
      "Model 207 finished with test f1_score of 0.7511\n"
     ]
    },
    {
     "name": "stdout",
     "output_type": "stream",
     "text": [
      "Model 208 finished with test f1_score of 0.7557\n"
     ]
    },
    {
     "name": "stdout",
     "output_type": "stream",
     "text": [
      "Model 209 finished with test f1_score of 0.7467\n"
     ]
    },
    {
     "name": "stdout",
     "output_type": "stream",
     "text": [
      "Model 210 finished with test f1_score of 0.7359\n"
     ]
    },
    {
     "name": "stdout",
     "output_type": "stream",
     "text": [
      "Model 211 finished with test f1_score of 0.7409\n"
     ]
    },
    {
     "name": "stdout",
     "output_type": "stream",
     "text": [
      "Model 212 finished with test f1_score of 0.7604\n"
     ]
    },
    {
     "name": "stdout",
     "output_type": "stream",
     "text": [
      "Model 213 finished with test f1_score of 0.7438\n"
     ]
    },
    {
     "name": "stdout",
     "output_type": "stream",
     "text": [
      "Model 214 finished with test f1_score of 0.7566\n"
     ]
    },
    {
     "name": "stdout",
     "output_type": "stream",
     "text": [
      "Model 215 finished with test f1_score of 0.7227\n"
     ]
    },
    {
     "name": "stdout",
     "output_type": "stream",
     "text": [
      "Model 216 finished with test f1_score of 0.7371\n"
     ]
    },
    {
     "name": "stdout",
     "output_type": "stream",
     "text": [
      "Model 217 finished with test f1_score of 0.7143\n"
     ]
    },
    {
     "name": "stdout",
     "output_type": "stream",
     "text": [
      "Model 218 finished with test f1_score of 0.7489\n"
     ]
    },
    {
     "name": "stdout",
     "output_type": "stream",
     "text": [
      "Model 219 finished with test f1_score of 0.7472\n"
     ]
    },
    {
     "name": "stdout",
     "output_type": "stream",
     "text": [
      "Model 220 finished with test f1_score of 0.7366\n"
     ]
    },
    {
     "name": "stdout",
     "output_type": "stream",
     "text": [
      "Model 221 finished with test f1_score of 0.7191\n"
     ]
    },
    {
     "name": "stdout",
     "output_type": "stream",
     "text": [
      "Model 222 finished with test f1_score of 0.7419\n"
     ]
    },
    {
     "name": "stdout",
     "output_type": "stream",
     "text": [
      "Model 223 finished with test f1_score of 0.7309\n"
     ]
    },
    {
     "name": "stdout",
     "output_type": "stream",
     "text": [
      "Model 224 finished with test f1_score of 0.7477\n"
     ]
    },
    {
     "name": "stdout",
     "output_type": "stream",
     "text": [
      "Model 225 finished with test f1_score of 0.7232\n"
     ]
    },
    {
     "name": "stdout",
     "output_type": "stream",
     "text": [
      "Model 226 finished with test f1_score of 0.7260\n"
     ]
    },
    {
     "name": "stdout",
     "output_type": "stream",
     "text": [
      "Model 227 finished with test f1_score of 0.7269\n"
     ]
    },
    {
     "name": "stdout",
     "output_type": "stream",
     "text": [
      "Model 228 finished with test f1_score of 0.7588\n"
     ]
    },
    {
     "name": "stdout",
     "output_type": "stream",
     "text": [
      "Model 229 finished with test f1_score of 0.7550\n"
     ]
    },
    {
     "name": "stdout",
     "output_type": "stream",
     "text": [
      "Model 230 finished with test f1_score of 0.7419\n"
     ]
    },
    {
     "name": "stdout",
     "output_type": "stream",
     "text": [
      "Model 231 finished with test f1_score of 0.7133\n"
     ]
    },
    {
     "name": "stdout",
     "output_type": "stream",
     "text": [
      "Model 232 finished with test f1_score of 0.7596\n"
     ]
    },
    {
     "name": "stdout",
     "output_type": "stream",
     "text": [
      "Model 233 finished with test f1_score of 0.7321\n"
     ]
    },
    {
     "name": "stdout",
     "output_type": "stream",
     "text": [
      "Model 234 finished with test f1_score of 0.7324\n"
     ]
    },
    {
     "name": "stdout",
     "output_type": "stream",
     "text": [
      "Model 235 finished with test f1_score of 0.7432\n"
     ]
    },
    {
     "name": "stdout",
     "output_type": "stream",
     "text": [
      "Model 236 finished with test f1_score of 0.7143\n"
     ]
    },
    {
     "name": "stdout",
     "output_type": "stream",
     "text": [
      "Model 237 finished with test f1_score of 0.7264\n"
     ]
    },
    {
     "name": "stdout",
     "output_type": "stream",
     "text": [
      "Model 238 finished with test f1_score of 0.7455\n"
     ]
    },
    {
     "name": "stdout",
     "output_type": "stream",
     "text": [
      "Model 239 finished with test f1_score of 0.7236\n"
     ]
    },
    {
     "name": "stdout",
     "output_type": "stream",
     "text": [
      "Model 240 finished with test f1_score of 0.7468\n"
     ]
    },
    {
     "name": "stdout",
     "output_type": "stream",
     "text": [
      "Model 241 finished with test f1_score of 0.7284\n"
     ]
    },
    {
     "name": "stdout",
     "output_type": "stream",
     "text": [
      "Model 242 finished with test f1_score of 0.7511\n"
     ]
    },
    {
     "name": "stdout",
     "output_type": "stream",
     "text": [
      "Model 243 finished with test f1_score of 0.7500\n"
     ]
    },
    {
     "name": "stdout",
     "output_type": "stream",
     "text": [
      "Model 244 finished with test f1_score of 0.7650\n"
     ]
    },
    {
     "name": "stdout",
     "output_type": "stream",
     "text": [
      "Model 245 finished with test f1_score of 0.7506\n"
     ]
    },
    {
     "name": "stdout",
     "output_type": "stream",
     "text": [
      "Model 246 finished with test f1_score of 0.7613\n"
     ]
    },
    {
     "name": "stdout",
     "output_type": "stream",
     "text": [
      "Model 247 finished with test f1_score of 0.7574\n"
     ]
    },
    {
     "name": "stdout",
     "output_type": "stream",
     "text": [
      "Model 248 finished with test f1_score of 0.7686\n"
     ]
    },
    {
     "name": "stdout",
     "output_type": "stream",
     "text": [
      "Model 249 finished with test f1_score of 0.7538\n"
     ]
    },
    {
     "name": "stdout",
     "output_type": "stream",
     "text": [
      "Model 250 finished with test f1_score of 0.7534\n"
     ]
    },
    {
     "name": "stdout",
     "output_type": "stream",
     "text": [
      "Model 251 finished with test f1_score of 0.7577\n"
     ]
    },
    {
     "name": "stdout",
     "output_type": "stream",
     "text": [
      "Model 252 finished with test f1_score of 0.7473\n"
     ]
    },
    {
     "name": "stdout",
     "output_type": "stream",
     "text": [
      "Model 253 finished with test f1_score of 0.7494\n"
     ]
    },
    {
     "name": "stdout",
     "output_type": "stream",
     "text": [
      "Model 254 finished with test f1_score of 0.7516\n"
     ]
    },
    {
     "name": "stdout",
     "output_type": "stream",
     "text": [
      "Model 255 finished with test f1_score of 0.7619\n"
     ]
    },
    {
     "name": "stdout",
     "output_type": "stream",
     "text": [
      "Model 256 finished with test f1_score of 0.7560\n"
     ]
    },
    {
     "name": "stdout",
     "output_type": "stream",
     "text": [
      "Model 257 finished with test f1_score of 0.7445\n"
     ]
    },
    {
     "name": "stdout",
     "output_type": "stream",
     "text": [
      "Model 258 finished with test f1_score of 0.7662\n"
     ]
    },
    {
     "name": "stdout",
     "output_type": "stream",
     "text": [
      "Model 259 finished with test f1_score of 0.7506\n"
     ]
    },
    {
     "name": "stdout",
     "output_type": "stream",
     "text": [
      "Model 260 finished with test f1_score of 0.7644\n"
     ]
    },
    {
     "name": "stdout",
     "output_type": "stream",
     "text": [
      "Model 261 finished with test f1_score of 0.7702\n"
     ]
    },
    {
     "name": "stdout",
     "output_type": "stream",
     "text": [
      "Model 262 finished with test f1_score of 0.7211\n"
     ]
    },
    {
     "name": "stdout",
     "output_type": "stream",
     "text": [
      "Model 263 finished with test f1_score of 0.7713\n"
     ]
    },
    {
     "name": "stdout",
     "output_type": "stream",
     "text": [
      "Model 264 finished with test f1_score of 0.7300\n"
     ]
    },
    {
     "name": "stdout",
     "output_type": "stream",
     "text": [
      "Model 265 finished with test f1_score of 0.7338\n"
     ]
    },
    {
     "name": "stdout",
     "output_type": "stream",
     "text": [
      "Model 266 finished with test f1_score of 0.7321\n"
     ]
    },
    {
     "name": "stdout",
     "output_type": "stream",
     "text": [
      "Model 267 finished with test f1_score of 0.7191\n"
     ]
    },
    {
     "name": "stdout",
     "output_type": "stream",
     "text": [
      "Model 268 finished with test f1_score of 0.7580\n"
     ]
    },
    {
     "name": "stdout",
     "output_type": "stream",
     "text": [
      "Model 269 finished with test f1_score of 0.7146\n"
     ]
    },
    {
     "name": "stdout",
     "output_type": "stream",
     "text": [
      "Model 270 finished with test f1_score of 0.7638\n"
     ]
    },
    {
     "name": "stdout",
     "output_type": "stream",
     "text": [
      "Model 271 finished with test f1_score of 0.7463\n"
     ]
    },
    {
     "name": "stdout",
     "output_type": "stream",
     "text": [
      "Model 272 finished with test f1_score of 0.7545\n"
     ]
    },
    {
     "name": "stdout",
     "output_type": "stream",
     "text": [
      "Model 273 finished with test f1_score of 0.7281\n"
     ]
    },
    {
     "name": "stdout",
     "output_type": "stream",
     "text": [
      "Model 274 finished with test f1_score of 0.7231\n"
     ]
    },
    {
     "name": "stdout",
     "output_type": "stream",
     "text": [
      "Model 275 finished with test f1_score of 0.7195\n"
     ]
    },
    {
     "name": "stdout",
     "output_type": "stream",
     "text": [
      "Model 276 finished with test f1_score of 0.7468\n"
     ]
    },
    {
     "name": "stdout",
     "output_type": "stream",
     "text": [
      "Model 277 finished with test f1_score of 0.7489\n"
     ]
    },
    {
     "name": "stdout",
     "output_type": "stream",
     "text": [
      "Model 278 finished with test f1_score of 0.7505\n"
     ]
    },
    {
     "name": "stdout",
     "output_type": "stream",
     "text": [
      "Model 279 finished with test f1_score of 0.7341\n"
     ]
    },
    {
     "name": "stdout",
     "output_type": "stream",
     "text": [
      "Model 280 finished with test f1_score of 0.7651\n"
     ]
    },
    {
     "name": "stdout",
     "output_type": "stream",
     "text": [
      "Model 281 finished with test f1_score of 0.7392\n"
     ]
    },
    {
     "name": "stdout",
     "output_type": "stream",
     "text": [
      "Model 282 finished with test f1_score of 0.7611\n"
     ]
    },
    {
     "name": "stdout",
     "output_type": "stream",
     "text": [
      "Model 283 finished with test f1_score of 0.7062\n"
     ]
    },
    {
     "name": "stdout",
     "output_type": "stream",
     "text": [
      "Model 284 finished with test f1_score of 0.7327\n"
     ]
    },
    {
     "name": "stdout",
     "output_type": "stream",
     "text": [
      "Model 285 finished with test f1_score of 0.7371\n"
     ]
    },
    {
     "name": "stdout",
     "output_type": "stream",
     "text": [
      "Model 286 finished with test f1_score of 0.7317\n"
     ]
    },
    {
     "name": "stdout",
     "output_type": "stream",
     "text": [
      "Model 287 finished with test f1_score of 0.7089\n"
     ]
    }
   ],
   "source": [
    "for i, params in enumerate(all_combinations):\n",
    "    if progress.at[i, 'finished']:\n",
    "        print(f'Model {i} has already been fitted.')\n",
    "    else:\n",
    "        try:\n",
    "            f1_score = create_fit_and_save_model(f'model{i}',train_df, val_df, test_df, EPOCHS, params)\n",
    "            progress.at[i, 'finished'] = True\n",
    "            progress.to_csv(progress_file, index=False)\n",
    "            print(f'Model {i} finished with test f1_score of {f1_score:.4f}')\n",
    "        except:\n",
    "            print(f'ERROR fitting model {i}')"
   ]
  },
  {
   "cell_type": "markdown",
   "id": "b789fa1f-b388-475d-a25d-4b905729fb5b",
   "metadata": {
    "papermill": {
     "duration": 0.011535,
     "end_time": "2024-02-15T20:19:47.360044",
     "exception": false,
     "start_time": "2024-02-15T20:19:47.348509",
     "status": "completed"
    },
    "tags": []
   },
   "source": [
    "---"
   ]
  }
 ],
 "metadata": {
  "kernelspec": {
   "display_name": "Python 3 (ipykernel)",
   "language": "python",
   "name": "python3"
  },
  "language_info": {
   "codemirror_mode": {
    "name": "ipython",
    "version": 3
   },
   "file_extension": ".py",
   "mimetype": "text/x-python",
   "name": "python",
   "nbconvert_exporter": "python",
   "pygments_lexer": "ipython3",
   "version": "3.10.8"
  },
  "papermill": {
   "default_parameters": {},
   "duration": 23170.685381,
   "end_time": "2024-02-15T20:19:50.526936",
   "environment_variables": {},
   "exception": null,
   "input_path": "./Multi_Model_Building.ipynb",
   "output_path": "./Multi_Model_Building_trained.ipynb",
   "parameters": {},
   "start_time": "2024-02-15T13:53:39.841555",
   "version": "2.5.0"
  }
 },
 "nbformat": 4,
 "nbformat_minor": 5
}
