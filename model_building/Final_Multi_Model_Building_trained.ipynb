{
 "cells": [
  {
   "cell_type": "markdown",
   "id": "599b29ae-8410-4898-adf5-46e1eb00c510",
   "metadata": {
    "papermill": {
     "duration": 0.002355,
     "end_time": "2024-02-18T00:36:51.272038",
     "exception": false,
     "start_time": "2024-02-18T00:36:51.269683",
     "status": "completed"
    },
    "tags": []
   },
   "source": [
    "# Final Multi Model Building"
   ]
  },
  {
   "cell_type": "code",
   "execution_count": 1,
   "id": "0fb845fd-8c0e-4dc8-a6c4-bc6fe6bfc21e",
   "metadata": {
    "execution": {
     "iopub.execute_input": "2024-02-18T00:36:51.280762Z",
     "iopub.status.busy": "2024-02-18T00:36:51.280407Z",
     "iopub.status.idle": "2024-02-18T00:36:51.282123Z",
     "shell.execute_reply": "2024-02-18T00:36:51.281810Z"
    },
    "papermill": {
     "duration": 0.008184,
     "end_time": "2024-02-18T00:36:51.282190",
     "exception": false,
     "start_time": "2024-02-18T00:36:51.274006",
     "status": "completed"
    },
    "tags": []
   },
   "outputs": [],
   "source": [
    "# Remove TF logging warnings\n",
    "import os\n",
    "os.environ['TF_CPP_MIN_LOG_LEVEL'] = '3'"
   ]
  },
  {
   "cell_type": "code",
   "execution_count": 2,
   "id": "730093ec-74c7-4ffb-95ac-90c84067364c",
   "metadata": {
    "execution": {
     "iopub.execute_input": "2024-02-18T00:36:51.288612Z",
     "iopub.status.busy": "2024-02-18T00:36:51.288285Z",
     "iopub.status.idle": "2024-02-18T00:36:53.677602Z",
     "shell.execute_reply": "2024-02-18T00:36:53.677293Z"
    },
    "papermill": {
     "duration": 2.39375,
     "end_time": "2024-02-18T00:36:53.677682",
     "exception": false,
     "start_time": "2024-02-18T00:36:51.283932",
     "status": "completed"
    },
    "tags": []
   },
   "outputs": [
    {
     "name": "stderr",
     "output_type": "stream",
     "text": [
      "/usr/lib/python3/dist-packages/scipy/__init__.py:146: UserWarning: A NumPy version >=1.17.3 and <1.25.0 is required for this version of SciPy (detected version 1.25.2\n",
      "  warnings.warn(f\"A NumPy version >={np_minversion} and <{np_maxversion}\"\n"
     ]
    }
   ],
   "source": [
    "import pandas as pd\n",
    "import tensorflow as tf\n",
    "import keras\n",
    "from keras import layers\n",
    "from model_helper_functions import create_fit_and_save_model\n",
    "from data_pipeline import prep_data, get_train_val_test_data\n",
    "from itertools import product\n",
    "import re\n",
    "\n",
    "# Import correct optimizer\n",
    "import platform\n",
    "if platform.system() == \"Darwin\" and platform.processor() == \"arm\":\n",
    "    from keras.optimizers.legacy import RMSprop, Adam\n",
    "else:\n",
    "    from keras.optimizers import RMSprop, Adam"
   ]
  },
  {
   "cell_type": "code",
   "execution_count": 3,
   "id": "f2fc6bc1-2433-4825-bf61-a1476a67580b",
   "metadata": {
    "execution": {
     "iopub.execute_input": "2024-02-18T00:36:53.684430Z",
     "iopub.status.busy": "2024-02-18T00:36:53.684092Z",
     "iopub.status.idle": "2024-02-18T00:36:53.685653Z",
     "shell.execute_reply": "2024-02-18T00:36:53.685339Z"
    },
    "papermill": {
     "duration": 0.005967,
     "end_time": "2024-02-18T00:36:53.685716",
     "exception": false,
     "start_time": "2024-02-18T00:36:53.679749",
     "status": "completed"
    },
    "tags": []
   },
   "outputs": [],
   "source": [
    "# Remove TF logging warnings\n",
    "tf.get_logger().setLevel('ERROR')"
   ]
  },
  {
   "cell_type": "code",
   "execution_count": 4,
   "id": "feb60aae-abf9-4eaa-98b7-4741064f2c23",
   "metadata": {
    "execution": {
     "iopub.execute_input": "2024-02-18T00:36:53.691816Z",
     "iopub.status.busy": "2024-02-18T00:36:53.691486Z",
     "iopub.status.idle": "2024-02-18T00:36:53.693085Z",
     "shell.execute_reply": "2024-02-18T00:36:53.692773Z"
    },
    "papermill": {
     "duration": 0.005614,
     "end_time": "2024-02-18T00:36:53.693143",
     "exception": false,
     "start_time": "2024-02-18T00:36:53.687529",
     "status": "completed"
    },
    "tags": []
   },
   "outputs": [],
   "source": [
    "tf.random.set_seed(15)\n",
    "keras.utils.set_random_seed(15)"
   ]
  },
  {
   "cell_type": "code",
   "execution_count": 5,
   "id": "1a925ad8-5352-4c36-b2ed-f64a7338e09f",
   "metadata": {
    "execution": {
     "iopub.execute_input": "2024-02-18T00:36:53.699207Z",
     "iopub.status.busy": "2024-02-18T00:36:53.698883Z",
     "iopub.status.idle": "2024-02-18T00:36:53.861715Z",
     "shell.execute_reply": "2024-02-18T00:36:53.861376Z"
    },
    "papermill": {
     "duration": 0.166802,
     "end_time": "2024-02-18T00:36:53.861779",
     "exception": false,
     "start_time": "2024-02-18T00:36:53.694977",
     "status": "completed"
    },
    "tags": []
   },
   "outputs": [
    {
     "name": "stdout",
     "output_type": "stream",
     "text": [
      "Training set: 70%, Validation set: 22.5%, Test set: 7.5%\n"
     ]
    }
   ],
   "source": [
    "data_dir = '../data'\n",
    "df = prep_data(data_dir)\n",
    "train_df, val_df, test_df = get_train_val_test_data(df, use_half_data=False)"
   ]
  },
  {
   "cell_type": "markdown",
   "id": "e5ec3475-76b5-41c7-a00a-b9b1b6027ce0",
   "metadata": {
    "papermill": {
     "duration": 0.001899,
     "end_time": "2024-02-18T00:36:53.865747",
     "exception": false,
     "start_time": "2024-02-18T00:36:53.863848",
     "status": "completed"
    },
    "tags": []
   },
   "source": [
    "---"
   ]
  },
  {
   "cell_type": "markdown",
   "id": "79cbb8e7-08f9-402d-95b6-141bf85f49d6",
   "metadata": {
    "papermill": {
     "duration": 0.001901,
     "end_time": "2024-02-18T00:36:53.869635",
     "exception": false,
     "start_time": "2024-02-18T00:36:53.867734",
     "status": "completed"
    },
    "tags": []
   },
   "source": [
    "## Hyperparameter Grid"
   ]
  },
  {
   "cell_type": "code",
   "execution_count": 6,
   "id": "f994e77c-75f7-40b8-a32c-d5825bc8238e",
   "metadata": {
    "execution": {
     "iopub.execute_input": "2024-02-18T00:36:53.876937Z",
     "iopub.status.busy": "2024-02-18T00:36:53.876606Z",
     "iopub.status.idle": "2024-02-18T00:36:53.878189Z",
     "shell.execute_reply": "2024-02-18T00:36:53.877909Z"
    },
    "papermill": {
     "duration": 0.006719,
     "end_time": "2024-02-18T00:36:53.878248",
     "exception": false,
     "start_time": "2024-02-18T00:36:53.871529",
     "status": "completed"
    },
    "tags": []
   },
   "outputs": [],
   "source": [
    "vocab_sizes = [2000, 4000, 6000, 8000]\n",
    "embed_sizes_with_pretrained_model = [\n",
    "    [200,'glove-twitter-200'],\n",
    "    [300,'word2vec-google-news-300'],\n",
    "    [300,'glove-wiki-gigaword-300'],\n",
    "    [300,'fasttext-wiki-news-subwords-300']\n",
    "]\n",
    "batch_sizes = [32]\n",
    "bidirectional_options = [True]\n",
    "rnn_layers = [layers.GRU]\n",
    "rnn_units_configs = [\n",
    "    [8],\n",
    "]\n",
    "dense_units_configs = [\n",
    "    [1],\n",
    "]\n",
    "activations = ['sigmoid']\n",
    "final_dropouts = [0.5]\n",
    "optimizers = [Adam]"
   ]
  },
  {
   "cell_type": "code",
   "execution_count": 7,
   "id": "891b3364-90ab-40f2-852c-abd11a197f23",
   "metadata": {
    "execution": {
     "iopub.execute_input": "2024-02-18T00:36:53.884671Z",
     "iopub.status.busy": "2024-02-18T00:36:53.883637Z",
     "iopub.status.idle": "2024-02-18T00:36:53.886644Z",
     "shell.execute_reply": "2024-02-18T00:36:53.886390Z"
    },
    "papermill": {
     "duration": 0.006501,
     "end_time": "2024-02-18T00:36:53.886705",
     "exception": false,
     "start_time": "2024-02-18T00:36:53.880204",
     "status": "completed"
    },
    "tags": []
   },
   "outputs": [
    {
     "name": "stdout",
     "output_type": "stream",
     "text": [
      "There are 16 parameter combinations to run.\n"
     ]
    }
   ],
   "source": [
    "all_combinations = list(product(vocab_sizes, embed_sizes_with_pretrained_model, batch_sizes, bidirectional_options, rnn_layers,\n",
    "                                rnn_units_configs, dense_units_configs, activations, final_dropouts, optimizers))\n",
    "print(f'There are {len(all_combinations)} parameter combinations to run.')"
   ]
  },
  {
   "cell_type": "code",
   "execution_count": 8,
   "id": "1c4d30ba-a824-4426-a083-77b4a53ff784",
   "metadata": {
    "execution": {
     "iopub.execute_input": "2024-02-18T00:36:53.895845Z",
     "iopub.status.busy": "2024-02-18T00:36:53.893848Z",
     "iopub.status.idle": "2024-02-18T00:36:53.900222Z",
     "shell.execute_reply": "2024-02-18T00:36:53.899949Z"
    },
    "papermill": {
     "duration": 0.01158,
     "end_time": "2024-02-18T00:36:53.900286",
     "exception": false,
     "start_time": "2024-02-18T00:36:53.888706",
     "status": "completed"
    },
    "tags": []
   },
   "outputs": [],
   "source": [
    "# Keep track of model fitting in order to resume at a later time if needed.\n",
    "progress_file = './model_checkpoints_final/model_building_progress.csv'\n",
    "if os.path.exists(progress_file):\n",
    "    progress = pd.read_csv(progress_file)\n",
    "else:\n",
    "    progress = pd.DataFrame.from_records(all_combinations, columns=['vocab_size', 'embed_size_with_pretrained_model', \n",
    "                                                                    'batch_size', 'bidirectional', 'rnn_layer', 'rnn_units', \n",
    "                                                                    'dense_units', 'activation', 'final_dropout', 'optimizer'])\n",
    "    progress.insert(0, 'model', range(len(all_combinations)))\n",
    "    progress['finished'] = False\n",
    "    class_names = '(GRU|LSTM|Adam|RMSprop)'\n",
    "    progress['rnn_layer'] = progress['rnn_layer'].apply(lambda x: re.sub(f'.*{class_names}.*','\\\\1',str(x)))\n",
    "    progress['optimizer'] = progress['optimizer'].apply(lambda x: re.sub(f'.*{class_names}.*','\\\\1',str(x)))\n",
    "    \n",
    "    progress.to_csv(progress_file, index=False)\n",
    "    progress = pd.read_csv(progress_file)"
   ]
  },
  {
   "cell_type": "markdown",
   "id": "849c891f-882a-467d-90c9-b6877c476959",
   "metadata": {
    "papermill": {
     "duration": 0.001999,
     "end_time": "2024-02-18T00:36:53.904325",
     "exception": false,
     "start_time": "2024-02-18T00:36:53.902326",
     "status": "completed"
    },
    "tags": []
   },
   "source": [
    "---"
   ]
  },
  {
   "cell_type": "markdown",
   "id": "03e5db2a-8f10-458e-9f95-594507365306",
   "metadata": {
    "papermill": {
     "duration": 0.001989,
     "end_time": "2024-02-18T00:36:53.908424",
     "exception": false,
     "start_time": "2024-02-18T00:36:53.906435",
     "status": "completed"
    },
    "tags": []
   },
   "source": [
    "## Fit Models"
   ]
  },
  {
   "cell_type": "code",
   "execution_count": 9,
   "id": "8faa4aaa-696f-440c-a258-84e903b3f4b9",
   "metadata": {
    "execution": {
     "iopub.execute_input": "2024-02-18T00:36:53.915056Z",
     "iopub.status.busy": "2024-02-18T00:36:53.914729Z",
     "iopub.status.idle": "2024-02-18T00:36:53.916181Z",
     "shell.execute_reply": "2024-02-18T00:36:53.915852Z"
    },
    "papermill": {
     "duration": 0.005805,
     "end_time": "2024-02-18T00:36:53.916243",
     "exception": false,
     "start_time": "2024-02-18T00:36:53.910438",
     "status": "completed"
    },
    "tags": []
   },
   "outputs": [],
   "source": [
    "EPOCHS = 15"
   ]
  },
  {
   "cell_type": "code",
   "execution_count": 10,
   "id": "160132fe-c34d-4876-b86f-48bdb93a6bf3",
   "metadata": {
    "execution": {
     "iopub.execute_input": "2024-02-18T00:36:54.474704Z",
     "iopub.status.busy": "2024-02-18T00:36:54.207720Z",
     "iopub.status.idle": "2024-02-18T01:26:51.941790Z",
     "shell.execute_reply": "2024-02-18T01:26:51.942073Z"
    },
    "papermill": {
     "duration": 2998.023847,
     "end_time": "2024-02-18T01:26:51.942166",
     "exception": false,
     "start_time": "2024-02-18T00:36:53.918319",
     "status": "completed"
    },
    "tags": []
   },
   "outputs": [
    {
     "name": "stdout",
     "output_type": "stream",
     "text": [
      "Model 0 finished with test f1_score of 0.7478\n"
     ]
    },
    {
     "name": "stdout",
     "output_type": "stream",
     "text": [
      "Model 1 finished with test f1_score of 0.7797\n"
     ]
    },
    {
     "name": "stdout",
     "output_type": "stream",
     "text": [
      "Model 2 finished with test f1_score of 0.7756\n"
     ]
    },
    {
     "name": "stdout",
     "output_type": "stream",
     "text": [
      "Model 3 finished with test f1_score of 0.7733\n"
     ]
    },
    {
     "name": "stdout",
     "output_type": "stream",
     "text": [
      "Model 4 finished with test f1_score of 0.7555\n"
     ]
    },
    {
     "name": "stdout",
     "output_type": "stream",
     "text": [
      "Model 5 finished with test f1_score of 0.8133\n"
     ]
    },
    {
     "name": "stdout",
     "output_type": "stream",
     "text": [
      "Model 6 finished with test f1_score of 0.7783\n"
     ]
    },
    {
     "name": "stdout",
     "output_type": "stream",
     "text": [
      "Model 7 finished with test f1_score of 0.7703\n"
     ]
    },
    {
     "name": "stdout",
     "output_type": "stream",
     "text": [
      "Model 8 finished with test f1_score of 0.7556\n"
     ]
    },
    {
     "name": "stdout",
     "output_type": "stream",
     "text": [
      "Model 9 finished with test f1_score of 0.7860\n"
     ]
    },
    {
     "name": "stdout",
     "output_type": "stream",
     "text": [
      "Model 10 finished with test f1_score of 0.7802\n"
     ]
    },
    {
     "name": "stdout",
     "output_type": "stream",
     "text": [
      "Model 11 finished with test f1_score of 0.7820\n"
     ]
    },
    {
     "name": "stdout",
     "output_type": "stream",
     "text": [
      "Model 12 finished with test f1_score of 0.7467\n"
     ]
    },
    {
     "name": "stdout",
     "output_type": "stream",
     "text": [
      "Model 13 finished with test f1_score of 0.7965\n"
     ]
    },
    {
     "name": "stdout",
     "output_type": "stream",
     "text": [
      "Model 14 finished with test f1_score of 0.7759\n"
     ]
    },
    {
     "name": "stdout",
     "output_type": "stream",
     "text": [
      "Model 15 finished with test f1_score of 0.7720\n"
     ]
    }
   ],
   "source": [
    "for i, params in enumerate(all_combinations):\n",
    "    if progress.at[i, 'finished']:\n",
    "        print(f'Model {i} has already been fitted.')\n",
    "    else:\n",
    "        try:\n",
    "            f1_score = create_fit_and_save_model(f'model{i}',train_df, val_df, test_df, EPOCHS, params, final_fitting=True)\n",
    "            progress.at[i, 'finished'] = True\n",
    "            progress.to_csv(progress_file, index=False)\n",
    "            print(f'Model {i} finished with test f1_score of {f1_score:.4f}')\n",
    "        except:\n",
    "            print(f'ERROR fitting model {i}')"
   ]
  },
  {
   "cell_type": "markdown",
   "id": "b789fa1f-b388-475d-a25d-4b905729fb5b",
   "metadata": {
    "papermill": {
     "duration": 0.002593,
     "end_time": "2024-02-18T01:26:51.947586",
     "exception": false,
     "start_time": "2024-02-18T01:26:51.944993",
     "status": "completed"
    },
    "tags": []
   },
   "source": [
    "---"
   ]
  }
 ],
 "metadata": {
  "kernelspec": {
   "display_name": "Python 3 (ipykernel)",
   "language": "python",
   "name": "python3"
  },
  "language_info": {
   "codemirror_mode": {
    "name": "ipython",
    "version": 3
   },
   "file_extension": ".py",
   "mimetype": "text/x-python",
   "name": "python",
   "nbconvert_exporter": "python",
   "pygments_lexer": "ipython3",
   "version": "3.10.12"
  },
  "papermill": {
   "default_parameters": {},
   "duration": 3005.031471,
   "end_time": "2024-02-18T01:26:55.589944",
   "environment_variables": {},
   "exception": null,
   "input_path": "./Final_Multi_Model_Building.ipynb",
   "output_path": "./Final_Multi_Model_Building_trained.ipynb",
   "parameters": {},
   "start_time": "2024-02-18T00:36:50.558473",
   "version": "2.5.0"
  }
 },
 "nbformat": 4,
 "nbformat_minor": 5
}